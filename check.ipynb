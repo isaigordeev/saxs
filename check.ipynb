{
 "cells": [
  {
   "cell_type": "code",
   "execution_count": 1,
   "metadata": {
    "collapsed": true
   },
   "outputs": [
    {
     "name": "stdout",
     "output_type": "stream",
     "text": [
      "/Users/isaigordeev/Desktop/2023/saxs/saxs\n"
     ]
    },
    {
     "name": "stderr",
     "output_type": "stream",
     "text": [
      "/Users/isaigordeev/Desktop/2023/SAXS/venv38/lib/python3.8/site-packages/urllib3/__init__.py:34: NotOpenSSLWarning: urllib3 v2.0 only supports OpenSSL 1.1.1+, currently the 'ssl' module is compiled with 'LibreSSL 2.8.3'. See: https://github.com/urllib3/urllib3/issues/3020\n",
      "  warnings.warn(\n"
     ]
    },
    {
     "name": "stdout",
     "output_type": "stream",
     "text": [
      "228\n"
     ]
    },
    {
     "data": {
      "text/plain": "========================================================================================================================\nLayer (type (var_name))                  Input Shape          Output Shape         Param #              Trainable\n========================================================================================================================\nSAXSViT10 (SAXSViT10)                    [1, 3, 448, 448]     [1, 3]               233,928              True\n├─PatchEmbedding (patch_embedding)       [1, 3, 448, 448]     [1, 1024, 228]       --                   True\n│    └─Conv2d (patcher)                  [1, 3, 448, 448]     [1, 228, 32, 32]     134,292              True\n│    └─Flatten (flatten)                 [1, 228, 32, 32]     [1, 228, 1024]       --                   --\n├─Dropout (embedding_dropout)            [1, 1025, 228]       [1, 1025, 228]       --                   --\n├─Sequential (transformer_encoder)       [1, 1025, 228]       [1, 1025, 228]       --                   True\n│    └─TransformerEncoderLayer (0)       [1, 1025, 228]       [1, 1025, 228]       1,613,892            True\n│    └─TransformerEncoderLayer (1)       [1, 1025, 228]       [1, 1025, 228]       1,613,892            True\n│    └─TransformerEncoderLayer (2)       [1, 1025, 228]       [1, 1025, 228]       1,613,892            True\n├─Sequential (classifier)                [1, 228]             [1, 3]               --                   True\n│    └─LayerNorm (0)                     [1, 228]             [1, 228]             456                  True\n│    └─Linear (1)                        [1, 228]             [1, 114]             26,106               True\n│    └─GELU (2)                          [1, 114]             [1, 114]             --                   --\n│    └─Linear (3)                        [1, 114]             [1, 3]               345                  True\n========================================================================================================================\nTotal params: 5,236,803\nTrainable params: 5,236,803\nNon-trainable params: 0\nTotal mult-adds (M): 137.54\n========================================================================================================================\nInput size (MB): 2.41\nForward/backward pass size (MB): 1.87\nParams size (MB): 0.64\nEstimated Total Size (MB): 4.92\n========================================================================================================================"
     },
     "execution_count": 1,
     "metadata": {},
     "output_type": "execute_result"
    }
   ],
   "source": [
    "\n",
    "\n",
    "import json\n",
    "from saxs.saxs_model.model import SAXSViT10\n",
    "\n",
    "from torchinfo import summary #optional\n",
    "\n",
    "from saxs.saxs_model.model_settings import IMAGE_DIM, COLOR_CHANNELS, PATCH_SIZE, ATTENTION_BLOCKS, EMBEDDING_DIM\n",
    "\n",
    "with open('config.json') as file:\n",
    "    config = json.load(file)\n",
    "\n",
    "mod = SAXSViT10(**config)\n",
    "\n",
    "summary(mod,\n",
    "        input_size=(1, 3, IMAGE_DIM, IMAGE_DIM),  # (batch_size, color_channels, height, width)\n",
    "        col_names=[\"input_size\", \"output_size\", \"num_params\", \"trainable\"],\n",
    "        col_width=20,\n",
    "        row_settings=[\"var_names\"]\n",
    "        )"
   ]
  },
  {
   "cell_type": "code",
   "execution_count": null,
   "outputs": [],
   "source": [],
   "metadata": {
    "collapsed": false
   }
  }
 ],
 "metadata": {
  "kernelspec": {
   "display_name": "Python 3",
   "language": "python",
   "name": "python3"
  },
  "language_info": {
   "codemirror_mode": {
    "name": "ipython",
    "version": 2
   },
   "file_extension": ".py",
   "mimetype": "text/x-python",
   "name": "python",
   "nbconvert_exporter": "python",
   "pygments_lexer": "ipython2",
   "version": "2.7.6"
  }
 },
 "nbformat": 4,
 "nbformat_minor": 0
}
